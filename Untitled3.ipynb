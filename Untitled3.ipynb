{
  "nbformat": 4,
  "nbformat_minor": 0,
  "metadata": {
    "colab": {
      "name": "Untitled3.ipynb",
      "provenance": []
    },
    "kernelspec": {
      "name": "python3",
      "display_name": "Python 3"
    },
    "language_info": {
      "name": "python"
    }
  },
  "cells": [
    {
      "cell_type": "code",
      "metadata": {
        "colab": {
          "base_uri": "https://localhost:8080/"
        },
        "id": "RIan6KYTsY5j",
        "outputId": "46e4134c-a2c6-4b3c-d3c8-4a681aba399b"
      },
      "source": [
        "#welcome to python\n",
        "print (\"Hello, World!\")"
      ],
      "execution_count": 14,
      "outputs": [
        {
          "output_type": "stream",
          "name": "stdout",
          "text": [
            "Hello, World!\n"
          ]
        }
      ]
    },
    {
      "cell_type": "code",
      "metadata": {
        "colab": {
          "base_uri": "https://localhost:8080/"
        },
        "id": "70W9-thUxeZ7",
        "outputId": "fea4aad8-059f-4a5b-cf08-bf9ee3ac5270"
      },
      "source": [
        "x = 1\n",
        "#x = \"Adeola\"\n",
        "print (x)"
      ],
      "execution_count": 17,
      "outputs": [
        {
          "output_type": "stream",
          "name": "stdout",
          "text": [
            "1\n"
          ]
        }
      ]
    },
    {
      "cell_type": "code",
      "metadata": {
        "colab": {
          "base_uri": "https://localhost:8080/"
        },
        "id": "46X4I07Xxv9O",
        "outputId": "248ea624-4ba9-4d65-aef8-f5110621fa41"
      },
      "source": [
        "x = str(1)\n",
        "y = int(2)\n",
        "z = float(3)\n",
        "print (x)\n",
        "print (y)\n",
        "print (z)"
      ],
      "execution_count": 19,
      "outputs": [
        {
          "output_type": "stream",
          "name": "stdout",
          "text": [
            "1\n",
            "2\n",
            "3.0\n"
          ]
        }
      ]
    },
    {
      "cell_type": "code",
      "metadata": {
        "colab": {
          "base_uri": "https://localhost:8080/"
        },
        "id": "JobV7Nemyl4Y",
        "outputId": "bb6554ed-ad55-4b55-9bd7-31598ec5ea6a"
      },
      "source": [
        "x =10\n",
        "y = \"John\"\n",
        "print (type(x))\n",
        "print (type(y))"
      ],
      "execution_count": 21,
      "outputs": [
        {
          "output_type": "stream",
          "name": "stdout",
          "text": [
            "<class 'int'>\n",
            "<class 'str'>\n"
          ]
        }
      ]
    },
    {
      "cell_type": "markdown",
      "metadata": {
        "id": "KI3ZL5wAshNX"
      },
      "source": [
        ""
      ]
    },
    {
      "cell_type": "code",
      "metadata": {
        "colab": {
          "base_uri": "https://localhost:8080/"
        },
        "id": "nGvP0CAyskGo",
        "outputId": "23f5802c-5254-4ce9-9b77-e665acfe2c8e"
      },
      "source": [
        "if 5 > 2:\n",
        " print (\"Five is greater than two!\")"
      ],
      "execution_count": 4,
      "outputs": [
        {
          "output_type": "stream",
          "name": "stdout",
          "text": [
            "Five is greater than two!\n"
          ]
        }
      ]
    },
    {
      "cell_type": "code",
      "metadata": {
        "colab": {
          "base_uri": "https://localhost:8080/"
        },
        "id": "0G3QGT7Ds5pW",
        "outputId": "f812bacb-4cf9-4b23-f389-2be0bc419a33"
      },
      "source": [
        "x = 5\n",
        "y = \"Hello World\"\n",
        "print (x)"
      ],
      "execution_count": 13,
      "outputs": [
        {
          "output_type": "stream",
          "name": "stdout",
          "text": [
            "5\n"
          ]
        }
      ]
    },
    {
      "cell_type": "code",
      "metadata": {
        "colab": {
          "base_uri": "https://localhost:8080/"
        },
        "id": "hUurwKDJtJJT",
        "outputId": "88747384-ff50-4aff-f303-ae2c8ae1ea86"
      },
      "source": [
        "if 5 > 2:\n",
        " print (\"Five is greater than two!\")\n",
        "if 10 * 2:\n",
        " print (\"Ten multiply by 2\")"
      ],
      "execution_count": 9,
      "outputs": [
        {
          "output_type": "stream",
          "name": "stdout",
          "text": [
            "Five is greater than two!\n",
            "Ten multiply by 2\n"
          ]
        }
      ]
    },
    {
      "cell_type": "code",
      "metadata": {
        "id": "LCHnZGP7y8L5"
      },
      "source": [
        "x = \"Tolu\"\n",
        "x = 'Tolu'"
      ],
      "execution_count": 23,
      "outputs": []
    },
    {
      "cell_type": "code",
      "metadata": {
        "id": "pLJlEi3wziIN"
      },
      "source": [
        "a = 4\n",
        "A = 4"
      ],
      "execution_count": 24,
      "outputs": []
    },
    {
      "cell_type": "code",
      "metadata": {
        "id": "KAkqtjS-0a9t"
      },
      "source": [
        "myvar = \"john\"\n",
        "Myvar = \"John\"\n",
        "my_var = \"John\"\n",
        "myVar2 = \"John\"\n",
        "MYVAR = \"John\"\n",
        "#2myvar = \"john\""
      ],
      "execution_count": 27,
      "outputs": []
    },
    {
      "cell_type": "code",
      "metadata": {
        "id": "cpEuj_VR2L_G"
      },
      "source": [
        "#camelcase\n",
        "myVsriableName = \"teni\"\n",
        "\n",
        "#pascalcase\n",
        "MyaVariableName = \"teni\"\n",
        "\n",
        "#snakecase\n",
        "my_variable_name = \"teni\""
      ],
      "execution_count": 28,
      "outputs": []
    },
    {
      "cell_type": "code",
      "metadata": {
        "colab": {
          "base_uri": "https://localhost:8080/"
        },
        "id": "RezHg_bd3Gjv",
        "outputId": "36ce0454-c4a4-4c34-86e0-e9cac193e2a3"
      },
      "source": [
        "#many values to multiple variables\n",
        "x,y,z = \"mango\", \"banana\", \"cherry\"\n",
        "print (x)\n",
        "print (y)\n",
        "print (z)"
      ],
      "execution_count": 31,
      "outputs": [
        {
          "output_type": "stream",
          "name": "stdout",
          "text": [
            "mango\n",
            "banana\n",
            "cherry\n"
          ]
        }
      ]
    },
    {
      "cell_type": "code",
      "metadata": {
        "colab": {
          "base_uri": "https://localhost:8080/"
        },
        "id": "M5HmOtvo34S2",
        "outputId": "523c4171-70fe-48bf-9469-69705a22224e"
      },
      "source": [
        "#one value to many variables\n",
        "x=y=z = \"cherry\"\n",
        "print (x)\n",
        "print (y)\n",
        "print (z)"
      ],
      "execution_count": 32,
      "outputs": [
        {
          "output_type": "stream",
          "name": "stdout",
          "text": [
            "cherry\n",
            "cherry\n",
            "cherry\n"
          ]
        }
      ]
    },
    {
      "cell_type": "code",
      "metadata": {
        "colab": {
          "base_uri": "https://localhost:8080/"
        },
        "id": "ZeXaAFZz4rVb",
        "outputId": "08d412e5-13fd-4dfb-cf49-b2e7c2cc6a71"
      },
      "source": [
        "fruits = [\"mango\", \"apple\", \"cherry\"]\n",
        "x,y,z = fruits\n",
        "print (x)\n",
        "print (y)\n",
        "print (z)"
      ],
      "execution_count": 33,
      "outputs": [
        {
          "output_type": "stream",
          "name": "stdout",
          "text": [
            "mango\n",
            "apple\n",
            "cherry\n"
          ]
        }
      ]
    },
    {
      "cell_type": "code",
      "metadata": {
        "colab": {
          "base_uri": "https://localhost:8080/"
        },
        "id": "ilhCElHE5tIj",
        "outputId": "05109a43-e56e-4714-d277-77b1eeb5347e"
      },
      "source": [
        "x = \"awesome\"\n",
        "print (\"python is \" + x)\n",
        "\n",
        "x = \"python is \"\n",
        "y = \"awesome\"\n",
        "z = x + y\n",
        "print (z)"
      ],
      "execution_count": 44,
      "outputs": [
        {
          "output_type": "stream",
          "name": "stdout",
          "text": [
            "python is awesome\n",
            "python is awesome\n"
          ]
        }
      ]
    },
    {
      "cell_type": "code",
      "metadata": {
        "colab": {
          "base_uri": "https://localhost:8080/"
        },
        "id": "ktzMc6AE7r_i",
        "outputId": "d6bbf1e1-6728-482e-accb-4de2ad90aae6"
      },
      "source": [
        "x = 5\n",
        "y = 18\n",
        "print (x + y)"
      ],
      "execution_count": 45,
      "outputs": [
        {
          "output_type": "stream",
          "name": "stdout",
          "text": [
            "23\n"
          ]
        }
      ]
    },
    {
      "cell_type": "code",
      "metadata": {
        "colab": {
          "base_uri": "https://localhost:8080/"
        },
        "id": "3-5l0qde7zXs",
        "outputId": "701d9983-1633-452a-e521-1bedfb1298c4"
      },
      "source": [
        "x = 20\n",
        "y = 2\n",
        "print (x * y)"
      ],
      "execution_count": 46,
      "outputs": [
        {
          "output_type": "stream",
          "name": "stdout",
          "text": [
            "40\n"
          ]
        }
      ]
    },
    {
      "cell_type": "code",
      "metadata": {
        "colab": {
          "base_uri": "https://localhost:8080/"
        },
        "id": "9qouRMh88AEi",
        "outputId": "3af8049e-931a-419c-9bcc-8ab0fe9f508d"
      },
      "source": [
        "x = 4\n",
        "y = \"tolu\"\n",
        "print (\"x\" + y)"
      ],
      "execution_count": 48,
      "outputs": [
        {
          "output_type": "stream",
          "name": "stdout",
          "text": [
            "xtolu\n"
          ]
        }
      ]
    },
    {
      "cell_type": "code",
      "metadata": {
        "colab": {
          "base_uri": "https://localhost:8080/"
        },
        "id": "qC6FZdtm-llh",
        "outputId": "e77a6e27-a4be-4b50-dca0-f3c6fe2e6cc0"
      },
      "source": [
        "#global variable\n",
        "x = \"awesome\"\n",
        "\n",
        "def myfunc():\n",
        " print (\"python is \" + x)\n",
        "\n",
        "myfunc()"
      ],
      "execution_count": 57,
      "outputs": [
        {
          "output_type": "stream",
          "name": "stdout",
          "text": [
            "python is awesome\n"
          ]
        }
      ]
    },
    {
      "cell_type": "code",
      "metadata": {
        "colab": {
          "base_uri": "https://localhost:8080/"
        },
        "id": "ky6KZK_WCDdi",
        "outputId": "11bf5e79-7245-4dd8-a112-bca1095e11a8"
      },
      "source": [
        "#local variable\n",
        "x = \"awesome\"\n",
        "\n",
        "def myfunc():\n",
        "  x = \"fantastic\"\n",
        "  print (\"python is \" + x)\n",
        "\n",
        "myfunc()\n",
        "print (\"python is \" + x)"
      ],
      "execution_count": null,
      "outputs": [
        {
          "output_type": "stream",
          "name": "stdout",
          "text": [
            "python is fantastic\n",
            "python is awesome\n"
          ]
        }
      ]
    },
    {
      "cell_type": "code",
      "metadata": {
        "colab": {
          "base_uri": "https://localhost:8080/"
        },
        "id": "58mdd-KpD3Az",
        "outputId": "7075f9b0-206f-4603-c155-bf987e83352d"
      },
      "source": [
        "#global keyword\n",
        "#x = \"awesome\"\n",
        "\n",
        "def myfunc():\n",
        "  global x\n",
        "  x = \"fantastic\"\n",
        " # print (\"python is \" + x)\n",
        "\n",
        "myfunc()\n",
        "print (\"python is \" + x)"
      ],
      "execution_count": 72,
      "outputs": [
        {
          "output_type": "stream",
          "name": "stdout",
          "text": [
            "python is fantastic\n"
          ]
        }
      ]
    },
    {
      "cell_type": "code",
      "metadata": {
        "colab": {
          "base_uri": "https://localhost:8080/"
        },
        "id": "DCPaeBi_BTiU",
        "outputId": "39a850ce-6d0f-41ae-eedb-e4c6af3e7cfa"
      },
      "source": [
        "#global keyword\n",
        "x = \"awesome\"\n",
        "\n",
        "def myfunc():\n",
        "  global x\n",
        "  x = \"fantastic\"\n",
        "  #print (\"python is \" + x)\n",
        "\n",
        "myfunc()\n",
        "print (\"python is \" + x)"
      ],
      "execution_count": 73,
      "outputs": [
        {
          "output_type": "stream",
          "name": "stdout",
          "text": [
            "python is fantastic\n"
          ]
        }
      ]
    },
    {
      "cell_type": "code",
      "metadata": {
        "colab": {
          "base_uri": "https://localhost:8080/"
        },
        "id": "-K7FrHga8AGR",
        "outputId": "346632fc-7cdb-4dc8-99ec-cfa098fd67b2"
      },
      "source": [
        "x = range(6)\n",
        "print (x)"
      ],
      "execution_count": 74,
      "outputs": [
        {
          "output_type": "stream",
          "name": "stdout",
          "text": [
            "range(0, 6)\n"
          ]
        }
      ]
    },
    {
      "cell_type": "code",
      "metadata": {
        "id": "itk0xloRBOY0",
        "colab": {
          "base_uri": "https://localhost:8080/"
        },
        "outputId": "7b229baa-06aa-4a9a-b3fb-2c28ab62baa4"
      },
      "source": [
        "x = {\"name\" : \"John\", \"age\" : 36}\n",
        "print (x)"
      ],
      "execution_count": 76,
      "outputs": [
        {
          "output_type": "stream",
          "name": "stdout",
          "text": [
            "{'name': 'John', 'age': 36}\n"
          ]
        }
      ]
    },
    {
      "cell_type": "code",
      "metadata": {
        "colab": {
          "base_uri": "https://localhost:8080/"
        },
        "id": "jJkEj0CIr1S8",
        "outputId": "b6c65844-9565-4cf1-d4dd-1a41d39c8586"
      },
      "source": [
        "x = frozenset({\"Apple\", \"Banana\", \"Orange\"})\n",
        "print (x)"
      ],
      "execution_count": 80,
      "outputs": [
        {
          "output_type": "stream",
          "name": "stdout",
          "text": [
            "frozenset({'Orange', 'Apple', 'Banana'})\n"
          ]
        }
      ]
    },
    {
      "cell_type": "code",
      "metadata": {
        "colab": {
          "base_uri": "https://localhost:8080/"
        },
        "id": "i9SnFN9Pr1Xn",
        "outputId": "55a3fb29-7309-4056-9e01-0a48e8dd5f96"
      },
      "source": [
        "x = True\n",
        "print (x)"
      ],
      "execution_count": 83,
      "outputs": [
        {
          "output_type": "stream",
          "name": "stdout",
          "text": [
            "True\n"
          ]
        }
      ]
    },
    {
      "cell_type": "code",
      "metadata": {
        "colab": {
          "base_uri": "https://localhost:8080/"
        },
        "id": "Tr6ar3DetbgK",
        "outputId": "a74e9f72-e80d-4e8d-c3ec-6b2bb287a629"
      },
      "source": [
        "x = b\"hello\"\n",
        "print (x)"
      ],
      "execution_count": 86,
      "outputs": [
        {
          "output_type": "stream",
          "name": "stdout",
          "text": [
            "b'hello'\n"
          ]
        }
      ]
    },
    {
      "cell_type": "code",
      "metadata": {
        "colab": {
          "base_uri": "https://localhost:8080/"
        },
        "id": "YO71iyastbiK",
        "outputId": "635b8f4b-4cd7-4add-c2b9-af2f808406ec"
      },
      "source": [
        "x = bytearray(3)\n",
        "print (x)"
      ],
      "execution_count": 90,
      "outputs": [
        {
          "output_type": "stream",
          "name": "stdout",
          "text": [
            "bytearray(b'\\x00\\x00\\x00')\n"
          ]
        }
      ]
    },
    {
      "cell_type": "code",
      "metadata": {
        "colab": {
          "base_uri": "https://localhost:8080/"
        },
        "id": "nSw7tVGXuJjb",
        "outputId": "33c05e73-b59d-468e-c9e5-704213cb8d27"
      },
      "source": [
        "x = memoryview(bytes(5))\n",
        "print (x)"
      ],
      "execution_count": 92,
      "outputs": [
        {
          "output_type": "stream",
          "name": "stdout",
          "text": [
            "<memory at 0x7f6950ce2bb0>\n"
          ]
        }
      ]
    },
    {
      "cell_type": "code",
      "metadata": {
        "colab": {
          "base_uri": "https://localhost:8080/"
        },
        "id": "pP57V2ti6kRp",
        "outputId": "dc838e16-7282-41e6-de3a-5fecb3f0dcfb"
      },
      "source": [
        "x = 4\n",
        "y = 556\n",
        "z = -3456\n",
        "print (type(x))\n",
        "print (type(y))\n",
        "print (type(z))"
      ],
      "execution_count": 2,
      "outputs": [
        {
          "output_type": "stream",
          "name": "stdout",
          "text": [
            "<class 'int'>\n",
            "<class 'int'>\n",
            "<class 'int'>\n"
          ]
        }
      ]
    },
    {
      "cell_type": "code",
      "metadata": {
        "colab": {
          "base_uri": "https://localhost:8080/"
        },
        "id": "3A7XvI3HEmmP",
        "outputId": "7895aa77-c005-4b84-e2f1-35beb499376a"
      },
      "source": [
        "x = -4.567\n",
        "print (type(x))\n",
        "y = 35e100\n",
        "print (type(y))"
      ],
      "execution_count": 5,
      "outputs": [
        {
          "output_type": "stream",
          "name": "stdout",
          "text": [
            "<class 'float'>\n",
            "<class 'float'>\n"
          ]
        }
      ]
    },
    {
      "cell_type": "code",
      "metadata": {
        "colab": {
          "base_uri": "https://localhost:8080/"
        },
        "id": "SF2kpvMKG-ur",
        "outputId": "b6df2150-266a-4902-d64b-cc2e66386ff7"
      },
      "source": [
        "x = 5j\n",
        "y = 5+4j\n",
        "z = -5j\n",
        "print(type(x))\n",
        "print(type(y))\n",
        "print(type(z))"
      ],
      "execution_count": 7,
      "outputs": [
        {
          "output_type": "stream",
          "name": "stdout",
          "text": [
            "<class 'complex'>\n",
            "<class 'complex'>\n",
            "<class 'complex'>\n"
          ]
        }
      ]
    },
    {
      "cell_type": "code",
      "metadata": {
        "colab": {
          "base_uri": "https://localhost:8080/"
        },
        "id": "rizSZ_KrJy-9",
        "outputId": "2a843210-79e3-46d8-d39b-3ddf9b94d5dc"
      },
      "source": [
        "x = 5 #int\n",
        "y = 2.8 #float\n",
        "z = 1j #complex\n",
        "#convert from int to float\n",
        "a = float(x)\n",
        "#convert from float to int\n",
        "b = int(y)\n",
        "#convert from int to complex\n",
        "c = complex(x)\n",
        "\n",
        "print(a)\n",
        "print(b)\n",
        "print(c)\n",
        "\n",
        "print(type(a))\n",
        "print(type(b))\n",
        "print(type(c))"
      ],
      "execution_count": 12,
      "outputs": [
        {
          "output_type": "stream",
          "name": "stdout",
          "text": [
            "5.0\n",
            "2\n",
            "(5+0j)\n",
            "<class 'float'>\n",
            "<class 'int'>\n",
            "<class 'complex'>\n"
          ]
        }
      ]
    },
    {
      "cell_type": "code",
      "metadata": {
        "colab": {
          "base_uri": "https://localhost:8080/"
        },
        "id": "eKaI6GLKNIP8",
        "outputId": "408c3e75-51e0-48f4-86da-b01d9f220e04"
      },
      "source": [
        "import random\n",
        "print(random.randrange(1, 10))"
      ],
      "execution_count": 17,
      "outputs": [
        {
          "output_type": "stream",
          "name": "stdout",
          "text": [
            "7\n"
          ]
        }
      ]
    },
    {
      "cell_type": "code",
      "metadata": {
        "id": "hLKVnQiLPFx5"
      },
      "source": [
        ""
      ],
      "execution_count": null,
      "outputs": []
    }
  ]
}